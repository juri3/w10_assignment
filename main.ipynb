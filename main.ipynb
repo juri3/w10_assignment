{
 "cells": [
  {
   "cell_type": "markdown",
   "id": "1965cc4e",
   "metadata": {},
   "source": [
    "## Step1 라이브러리 불러오기, 데이터 읽기"
   ]
  },
  {
   "cell_type": "markdown",
   "id": "4fdd778e",
   "metadata": {},
   "source": [
    "- 인공지능 분류 모델을 설계합니다.\n",
    "- ['playtime', 'playcount', 'level', 'paycount', 'payamount', 'mainjoblevel']` 정보를 feature로 사용합니다.\n",
    "- mainjob을 target으로 설정합니다."
   ]
  },
  {
   "cell_type": "code",
   "execution_count": 20,
   "id": "df921f66",
   "metadata": {},
   "outputs": [
    {
     "name": "stdout",
     "output_type": "stream",
     "text": [
      "==================== game.xlsx 데이터 정보입니다. ====================\n"
     ]
    },
    {
     "data": {
      "text/plain": [
       "(2899, 9)"
      ]
     },
     "metadata": {},
     "output_type": "display_data"
    },
    {
     "data": {
      "text/plain": [
       "Index(['user_id', 'date', 'playtime', 'playcount', 'level', 'mainjob',\n",
       "       'paycount', 'payamount', 'mainjoblevel'],\n",
       "      dtype='object')"
      ]
     },
     "metadata": {},
     "output_type": "display_data"
    },
    {
     "data": {
      "text/html": [
       "<div>\n",
       "<style scoped>\n",
       "    .dataframe tbody tr th:only-of-type {\n",
       "        vertical-align: middle;\n",
       "    }\n",
       "\n",
       "    .dataframe tbody tr th {\n",
       "        vertical-align: top;\n",
       "    }\n",
       "\n",
       "    .dataframe thead th {\n",
       "        text-align: right;\n",
       "    }\n",
       "</style>\n",
       "<table border=\"1\" class=\"dataframe\">\n",
       "  <thead>\n",
       "    <tr style=\"text-align: right;\">\n",
       "      <th></th>\n",
       "      <th>user_id</th>\n",
       "      <th>date</th>\n",
       "      <th>playtime</th>\n",
       "      <th>playcount</th>\n",
       "      <th>level</th>\n",
       "      <th>mainjob</th>\n",
       "      <th>paycount</th>\n",
       "      <th>payamount</th>\n",
       "      <th>mainjoblevel</th>\n",
       "    </tr>\n",
       "  </thead>\n",
       "  <tbody>\n",
       "    <tr>\n",
       "      <th>0</th>\n",
       "      <td>1001</td>\n",
       "      <td>2024-01-10</td>\n",
       "      <td>61</td>\n",
       "      <td>1.0</td>\n",
       "      <td>15</td>\n",
       "      <td>dealer</td>\n",
       "      <td>1</td>\n",
       "      <td>60300</td>\n",
       "      <td>60</td>\n",
       "    </tr>\n",
       "    <tr>\n",
       "      <th>1</th>\n",
       "      <td>1001</td>\n",
       "      <td>2024-01-11</td>\n",
       "      <td>14</td>\n",
       "      <td>1.0</td>\n",
       "      <td>15</td>\n",
       "      <td>dealer</td>\n",
       "      <td>1</td>\n",
       "      <td>100</td>\n",
       "      <td>60</td>\n",
       "    </tr>\n",
       "    <tr>\n",
       "      <th>2</th>\n",
       "      <td>1001</td>\n",
       "      <td>2024-01-12</td>\n",
       "      <td>16</td>\n",
       "      <td>1.0</td>\n",
       "      <td>15</td>\n",
       "      <td>tanker</td>\n",
       "      <td>1</td>\n",
       "      <td>151</td>\n",
       "      <td>60</td>\n",
       "    </tr>\n",
       "    <tr>\n",
       "      <th>3</th>\n",
       "      <td>1001</td>\n",
       "      <td>2024-01-13</td>\n",
       "      <td>1300</td>\n",
       "      <td>3.0</td>\n",
       "      <td>15</td>\n",
       "      <td>tanker</td>\n",
       "      <td>1</td>\n",
       "      <td>1000</td>\n",
       "      <td>60</td>\n",
       "    </tr>\n",
       "    <tr>\n",
       "      <th>4</th>\n",
       "      <td>1001</td>\n",
       "      <td>2024-01-14</td>\n",
       "      <td>41</td>\n",
       "      <td>3.0</td>\n",
       "      <td>15</td>\n",
       "      <td>tanker</td>\n",
       "      <td>1</td>\n",
       "      <td>16000</td>\n",
       "      <td>60</td>\n",
       "    </tr>\n",
       "  </tbody>\n",
       "</table>\n",
       "</div>"
      ],
      "text/plain": [
       "   user_id       date  playtime  playcount  level mainjob  paycount  \\\n",
       "0     1001 2024-01-10        61        1.0     15  dealer         1   \n",
       "1     1001 2024-01-11        14        1.0     15  dealer         1   \n",
       "2     1001 2024-01-12        16        1.0     15  tanker         1   \n",
       "3     1001 2024-01-13      1300        3.0     15  tanker         1   \n",
       "4     1001 2024-01-14        41        3.0     15  tanker         1   \n",
       "\n",
       "   payamount  mainjoblevel  \n",
       "0      60300            60  \n",
       "1        100            60  \n",
       "2        151            60  \n",
       "3       1000            60  \n",
       "4      16000            60  "
      ]
     },
     "metadata": {},
     "output_type": "display_data"
    }
   ],
   "source": [
    "# 데이터 읽기용 코드셀입니다.\n",
    "\n",
    "import pandas as pd\n",
    "print('='*20, 'game.xlsx 데이터 정보입니다.', '='*20)\n",
    "tmp_df = pd.read_excel('../data_과제/game.xlsx', sheet_name='Sheet1')\n",
    "display(tmp_df.shape)\n",
    "display(tmp_df.columns)\n",
    "display(tmp_df.head())"
   ]
  },
  {
   "cell_type": "markdown",
   "id": "dc15ed60",
   "metadata": {},
   "source": [
    "<img src=\"./참고이미지/Q9/Q9_1.png\" width=\"45%\">"
   ]
  }
 ],
 "metadata": {
  "language_info": {
   "name": "python"
  }
 },
 "nbformat": 4,
 "nbformat_minor": 5
}
