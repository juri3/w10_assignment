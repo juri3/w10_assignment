{
 "cells": [
  {
   "cell_type": "markdown",
   "id": "1965cc4e",
   "metadata": {},
   "source": [
    "## Step1 라이브러리 불러오기, 데이터 읽기"
   ]
  },
  {
   "cell_type": "markdown",
   "id": "583a942a",
   "metadata": {},
   "source": [
    "## Step2 데이터 전처리"
   ]
  },
  {
   "cell_type": "markdown",
   "id": "30834f35",
   "metadata": {},
   "source": [
    "## Step3 모델 학습"
   ]
  },
  {
   "cell_type": "markdown",
   "id": "f02cd618",
   "metadata": {},
   "source": [
    "<b>사용 인공지능 모델</b>\n",
    "- 인공지능 모델은 ExplainableBoostingClassifier를 사용합니다."
   ]
  },
  {
   "cell_type": "code",
   "execution_count": null,
   "id": "9c278ecc",
   "metadata": {},
   "outputs": [
    {
     "name": "stderr",
     "output_type": "stream",
     "text": [
      "c:\\Users\\최주리\\AppData\\Local\\Programs\\Python\\Python313\\Lib\\site-packages\\interpret\\glassbox\\_ebm\\_ebm.py:869: UserWarning: Missing values detected. Our visualizations do not currently display missing values. To retain the glassbox nature of the model you need to either set the missing values to an extreme value like -1000 that will be visible on the graphs, or manually examine the missing value score in ebm.term_scores_[term_index][0]\n",
      "  warn(\n"
     ]
    },
    {
     "name": "stdout",
     "output_type": "stream",
     "text": [
      "==================== accuracy 결과입니다. ====================\n",
      "0.9413793103448276\n",
      "==================== classification_report 결과입니다. ====================\n",
      "              precision    recall  f1-score   support\n",
      "\n",
      "      dealer       0.94      0.97      0.95       320\n",
      "      healer       0.95      0.91      0.93       137\n",
      "      tanker       0.95      0.91      0.93       123\n",
      "\n",
      "    accuracy                           0.94       580\n",
      "   macro avg       0.94      0.93      0.94       580\n",
      "weighted avg       0.94      0.94      0.94       580\n",
      "\n"
     ]
    }
   ],
   "source": [
    "from sklearn.metrics import accuracy_score, classification_report\n",
    "from interpret.glassbox import ExplainableBoostingClassifier\n",
    "\n",
    "ebm = ExplainableBoostingClassifier(interactions=False, n_jobs=1, random_state=42)\n",
    "ebm.fit(X_train, y_train_encoded)\n",
    "\n",
    "y_pred = ebm.predict(X_test)\n",
    "accuracy = accuracy_score(y_test_encoded, y_pred)\n",
    "#print(type(y_test_encoded[0]), type(y_pred[0]))\n",
    "y_pred_lbl = encoder.inverse_transform(y_pred)\n",
    "y_test_lbl = encoder.inverse_transform(y_test_encoded)\n",
    "\n",
    "\n",
    "report = classification_report(y_test_lbl, y_pred_lbl, target_names=encoder.classes_, digits=2, zero_division=0)\n",
    "\n",
    "print('='*20, 'accuracy 결과입니다.', '='*20)\n",
    "print(accuracy)\n",
    "print('='*20, 'classification_report 결과입니다.', '='*20)\n",
    "print(report)"
   ]
  },
  {
   "cell_type": "markdown",
   "id": "a1e007b2",
   "metadata": {},
   "source": [
    "<img src=\"./참고이미지/Q10/Q10_1.png\" width=\"45%\">"
   ]
  },
  {
   "cell_type": "markdown",
   "id": "19f5ad68",
   "metadata": {},
   "source": [
    "<b>코드 Cell</b>\n",
    "- features와 target으로 데이터를 분리합니다.\n",
    "- features와 target에 대한 정보를 확인합니다."
   ]
  },
  {
   "cell_type": "code",
   "execution_count": null,
   "id": "9364b24e",
   "metadata": {},
   "outputs": [
    {
     "name": "stdout",
     "output_type": "stream",
     "text": [
      "==================== features 정보입니다. ====================\n"
     ]
    },
    {
     "data": {
      "text/plain": [
       "(2899, 6)"
      ]
     },
     "metadata": {},
     "output_type": "display_data"
    },
    {
     "data": {
      "text/html": [
       "<div>\n",
       "<style scoped>\n",
       "    .dataframe tbody tr th:only-of-type {\n",
       "        vertical-align: middle;\n",
       "    }\n",
       "\n",
       "    .dataframe tbody tr th {\n",
       "        vertical-align: top;\n",
       "    }\n",
       "\n",
       "    .dataframe thead th {\n",
       "        text-align: right;\n",
       "    }\n",
       "</style>\n",
       "<table border=\"1\" class=\"dataframe\">\n",
       "  <thead>\n",
       "    <tr style=\"text-align: right;\">\n",
       "      <th></th>\n",
       "      <th>playtime</th>\n",
       "      <th>playcount</th>\n",
       "      <th>level</th>\n",
       "      <th>paycount</th>\n",
       "      <th>payamount</th>\n",
       "      <th>mainjoblevel</th>\n",
       "    </tr>\n",
       "  </thead>\n",
       "  <tbody>\n",
       "    <tr>\n",
       "      <th>0</th>\n",
       "      <td>61</td>\n",
       "      <td>1.0</td>\n",
       "      <td>15</td>\n",
       "      <td>1</td>\n",
       "      <td>60300</td>\n",
       "      <td>60</td>\n",
       "    </tr>\n",
       "    <tr>\n",
       "      <th>1</th>\n",
       "      <td>14</td>\n",
       "      <td>1.0</td>\n",
       "      <td>15</td>\n",
       "      <td>1</td>\n",
       "      <td>100</td>\n",
       "      <td>60</td>\n",
       "    </tr>\n",
       "    <tr>\n",
       "      <th>2</th>\n",
       "      <td>16</td>\n",
       "      <td>1.0</td>\n",
       "      <td>15</td>\n",
       "      <td>1</td>\n",
       "      <td>151</td>\n",
       "      <td>60</td>\n",
       "    </tr>\n",
       "    <tr>\n",
       "      <th>3</th>\n",
       "      <td>1300</td>\n",
       "      <td>3.0</td>\n",
       "      <td>15</td>\n",
       "      <td>1</td>\n",
       "      <td>1000</td>\n",
       "      <td>60</td>\n",
       "    </tr>\n",
       "    <tr>\n",
       "      <th>4</th>\n",
       "      <td>41</td>\n",
       "      <td>3.0</td>\n",
       "      <td>15</td>\n",
       "      <td>1</td>\n",
       "      <td>16000</td>\n",
       "      <td>60</td>\n",
       "    </tr>\n",
       "  </tbody>\n",
       "</table>\n",
       "</div>"
      ],
      "text/plain": [
       "   playtime  playcount  level  paycount  payamount  mainjoblevel\n",
       "0        61        1.0     15         1      60300            60\n",
       "1        14        1.0     15         1        100            60\n",
       "2        16        1.0     15         1        151            60\n",
       "3      1300        3.0     15         1       1000            60\n",
       "4        41        3.0     15         1      16000            60"
      ]
     },
     "metadata": {},
     "output_type": "display_data"
    },
    {
     "name": "stdout",
     "output_type": "stream",
     "text": [
      "==================== target 정보입니다. ====================\n"
     ]
    },
    {
     "data": {
      "text/plain": [
       "(2899,)"
      ]
     },
     "metadata": {},
     "output_type": "display_data"
    },
    {
     "data": {
      "text/plain": [
       "0    dealer\n",
       "1    dealer\n",
       "2    tanker\n",
       "3    tanker\n",
       "4    tanker\n",
       "Name: mainjob, dtype: object"
      ]
     },
     "metadata": {},
     "output_type": "display_data"
    }
   ],
   "source": [
    "features = tmp_df[['playtime', 'playcount', 'level', 'paycount', 'payamount', 'mainjoblevel']]\n",
    "target = tmp_df['mainjob']\n",
    "\n",
    "print('='*20, 'features 정보입니다.', '='*20)\n",
    "display(features.shape)\n",
    "display(features.head())\n",
    "\n",
    "print('='*20, 'target 정보입니다.', '='*20)\n",
    "display(target.shape)\n",
    "display(target.head())"
   ]
  },
  {
   "cell_type": "markdown",
   "id": "755f5fd6",
   "metadata": {},
   "source": [
    "<img src=\"./참고이미지/Q9/Q9_2.png\" width=\"35%\">"
   ]
  },
  {
   "cell_type": "markdown",
   "id": "091c30a6",
   "metadata": {},
   "source": [
    "<b>코드 Cell</b>\n",
    "- features와 target 데이터를 train_test_split을 통해 분리합니다.\n",
    "- test_size = 0.2로 설정하고 random_state = 42로 설정합니다."
   ]
  },
  {
   "cell_type": "code",
   "execution_count": null,
   "id": "a1d77742",
   "metadata": {},
   "outputs": [
    {
     "name": "stdout",
     "output_type": "stream",
     "text": [
      "==================== 분할 이후 train 데이터 크기입니다. ====================\n"
     ]
    },
    {
     "data": {
      "text/plain": [
       "(2319, 6)"
      ]
     },
     "metadata": {},
     "output_type": "display_data"
    },
    {
     "data": {
      "text/plain": [
       "(2319,)"
      ]
     },
     "metadata": {},
     "output_type": "display_data"
    },
    {
     "name": "stdout",
     "output_type": "stream",
     "text": [
      "==================== 분할 이후 test 데이터 크기입니다. ====================\n"
     ]
    },
    {
     "data": {
      "text/plain": [
       "(580, 6)"
      ]
     },
     "metadata": {},
     "output_type": "display_data"
    },
    {
     "data": {
      "text/plain": [
       "(580,)"
      ]
     },
     "metadata": {},
     "output_type": "display_data"
    },
    {
     "name": "stdout",
     "output_type": "stream",
     "text": [
      "==================== train 데이터와 test 데이터 비율 계산 결과입니다. ====================\n",
      "0.7999310106933425\n",
      "0.20006898930665748\n"
     ]
    }
   ],
   "source": [
    "from sklearn.model_selection import train_test_split\n",
    "X_train, X_test, y_train, y_test = train_test_split(features, target, test_size=0.20, random_state=42, shuffle=True)\n",
    "\n",
    "print('='*20, '분할 이후 train 데이터 크기입니다.', '='*20)\n",
    "display(X_train.shape)\n",
    "display(y_train.shape)\n",
    "\n",
    "print('='*20, '분할 이후 test 데이터 크기입니다.', '='*20)\n",
    "display(X_test.shape)\n",
    "display(y_test.shape)\n",
    "\n",
    "print('='*20, 'train 데이터와 test 데이터 비율 계산 결과입니다.', '='*20)\n",
    "train_ratio = len(X_train) / (len(X_train) + len(X_test))\n",
    "test_ratio = len(X_test) / (len(X_train) + len(X_test))\n",
    "print(f\"{train_ratio}\")  # 퍼센트로, 소수점 둘째자리까지\n",
    "print(f\"{test_ratio}\")"
   ]
  },
  {
   "cell_type": "markdown",
   "id": "3729914c",
   "metadata": {},
   "source": [
    "<img src=\"./참고이미지/Q9/Q9_3.png\" width=\"100%\">"
   ]
  },
  {
   "cell_type": "markdown",
   "id": "d7b56f5b",
   "metadata": {},
   "source": [
    "<b>코드 Cell</b>\n",
    "- target 데이터에 대한 LabelEncoding 과정을 수행합니다."
   ]
  },
  {
   "cell_type": "code",
   "execution_count": null,
   "id": "a3fb48a1",
   "metadata": {},
   "outputs": [],
   "source": [
    "from sklearn.preprocessing import LabelEncoder\n",
    "encoder = LabelEncoder()\n",
    "y_train_encoded = encoder.fit_transform(y_train)\n",
    "y_test_encoded  = encoder.transform(y_test)\n",
    "#encoded"
   ]
  },
  {
   "cell_type": "markdown",
   "id": "5e4168eb",
   "metadata": {},
   "source": [
    "<b>코드 Cell</b>\n",
    "- hist 시각화를 통해 Label Encoding 전후의 모습을 확인합니다.\n",
    "- hist 시각화 과정에서 별도의 옵션을 설정한 것은 없습니다.`"
   ]
  },
  {
   "cell_type": "code",
   "execution_count": null,
   "id": "a1f3543c",
   "metadata": {},
   "outputs": [
    {
     "name": "stdout",
     "output_type": "stream",
     "text": [
      "==================== LabelEncoding 이전의 분포입니다. ====================\n"
     ]
    },
    {
     "data": {
      "image/png": "[encoded data removed]",
      "text/plain": [
       "<Figure size 600x300 with 1 Axes>"
      ]
     },
     "metadata": {},
     "output_type": "display_data"
    },
    {
     "name": "stdout",
     "output_type": "stream",
     "text": [
      "==================== LabelEncoding 이후의 분포입니다. ====================\n"
     ]
    },
    {
     "data": {
      "image/png": "[encoded data removed]",
      "text/plain": [
       "<Figure size 600x300 with 1 Axes>"
      ]
     },
     "metadata": {},
     "output_type": "display_data"
    }
   ],
   "source": [
    "import matplotlib.pyplot as plt\n",
    "import numpy as np\n",
    "\n",
    "print('='*20, 'LabelEncoding 이전의 분포입니다.', '='*20)\n",
    "le_before = y_train.value_counts()\n",
    "plt.figure(figsize=(6,3))\n",
    "for i, (label, val) in enumerate(le_before.items()):\n",
    "    w = 0.2 if i < len(le_before)-1 else -0.2   # 마지막만 오른쪽 정렬\n",
    "    plt.bar(label, val, width=w, align='edge', color = \"#1f77b4\")\n",
    "plt.yticks(np.arange(0, max(le_before.values), 250))\n",
    "plt.show()\n",
    "\n",
    "print('='*20, 'LabelEncoding 이후의 분포입니다.', '='*20)\n",
    "le_after = pd.Series(y_train_encoded).value_counts()\n",
    "#print(le_after)\n",
    "plt.figure(figsize=(6,3))\n",
    "for i, (label, val) in enumerate(le_after.items()):\n",
    "    w = 0.2 if i < len(le_after)-1 else -0.2   # 마지막만 오른쪽 정렬\n",
    "    plt.bar(label, val, width=w, align='edge', color = \"#1f77b4\")\n",
    "plt.yticks(np.arange(0, max(le_after.values), 250))\n",
    "plt.xticks(np.arange(0, max(le_after.index)+0.25, 0.25))\n",
    "plt.show()\n"
   ]
  },
  {
   "cell_type": "markdown",
   "id": "20eacf87",
   "metadata": {},
   "source": [
    "<img src=\"./참고이미지/Q9/Q9_4.png\" width=\"40%\">"
   ]
  },
  {
   "cell_type": "markdown",
   "id": "4fdd778e",
   "metadata": {},
   "source": [
    "- 인공지능 분류 모델을 설계합니다.\n",
    "- ['playtime', 'playcount', 'level', 'paycount', 'payamount', 'mainjoblevel']` 정보를 feature로 사용합니다.\n",
    "- mainjob을 target으로 설정합니다."
   ]
  },
  {
   "cell_type": "code",
   "execution_count": 20,
   "id": "df921f66",
   "metadata": {},
   "outputs": [
    {
     "name": "stdout",
     "output_type": "stream",
     "text": [
      "==================== game.xlsx 데이터 정보입니다. ====================\n"
     ]
    },
    {
     "data": {
      "text/plain": [
       "(2899, 9)"
      ]
     },
     "metadata": {},
     "output_type": "display_data"
    },
    {
     "data": {
      "text/plain": [
       "Index(['user_id', 'date', 'playtime', 'playcount', 'level', 'mainjob',\n",
       "       'paycount', 'payamount', 'mainjoblevel'],\n",
       "      dtype='object')"
      ]
     },
     "metadata": {},
     "output_type": "display_data"
    },
    {
     "data": {
      "text/html": [
       "<div>\n",
       "<style scoped>\n",
       "    .dataframe tbody tr th:only-of-type {\n",
       "        vertical-align: middle;\n",
       "    }\n",
       "\n",
       "    .dataframe tbody tr th {\n",
       "        vertical-align: top;\n",
       "    }\n",
       "\n",
       "    .dataframe thead th {\n",
       "        text-align: right;\n",
       "    }\n",
       "</style>\n",
       "<table border=\"1\" class=\"dataframe\">\n",
       "  <thead>\n",
       "    <tr style=\"text-align: right;\">\n",
       "      <th></th>\n",
       "      <th>user_id</th>\n",
       "      <th>date</th>\n",
       "      <th>playtime</th>\n",
       "      <th>playcount</th>\n",
       "      <th>level</th>\n",
       "      <th>mainjob</th>\n",
       "      <th>paycount</th>\n",
       "      <th>payamount</th>\n",
       "      <th>mainjoblevel</th>\n",
       "    </tr>\n",
       "  </thead>\n",
       "  <tbody>\n",
       "    <tr>\n",
       "      <th>0</th>\n",
       "      <td>1001</td>\n",
       "      <td>2024-01-10</td>\n",
       "      <td>61</td>\n",
       "      <td>1.0</td>\n",
       "      <td>15</td>\n",
       "      <td>dealer</td>\n",
       "      <td>1</td>\n",
       "      <td>60300</td>\n",
       "      <td>60</td>\n",
       "    </tr>\n",
       "    <tr>\n",
       "      <th>1</th>\n",
       "      <td>1001</td>\n",
       "      <td>2024-01-11</td>\n",
       "      <td>14</td>\n",
       "      <td>1.0</td>\n",
       "      <td>15</td>\n",
       "      <td>dealer</td>\n",
       "      <td>1</td>\n",
       "      <td>100</td>\n",
       "      <td>60</td>\n",
       "    </tr>\n",
       "    <tr>\n",
       "      <th>2</th>\n",
       "      <td>1001</td>\n",
       "      <td>2024-01-12</td>\n",
       "      <td>16</td>\n",
       "      <td>1.0</td>\n",
       "      <td>15</td>\n",
       "      <td>tanker</td>\n",
       "      <td>1</td>\n",
       "      <td>151</td>\n",
       "      <td>60</td>\n",
       "    </tr>\n",
       "    <tr>\n",
       "      <th>3</th>\n",
       "      <td>1001</td>\n",
       "      <td>2024-01-13</td>\n",
       "      <td>1300</td>\n",
       "      <td>3.0</td>\n",
       "      <td>15</td>\n",
       "      <td>tanker</td>\n",
       "      <td>1</td>\n",
       "      <td>1000</td>\n",
       "      <td>60</td>\n",
       "    </tr>\n",
       "    <tr>\n",
       "      <th>4</th>\n",
       "      <td>1001</td>\n",
       "      <td>2024-01-14</td>\n",
       "      <td>41</td>\n",
       "      <td>3.0</td>\n",
       "      <td>15</td>\n",
       "      <td>tanker</td>\n",
       "      <td>1</td>\n",
       "      <td>16000</td>\n",
       "      <td>60</td>\n",
       "    </tr>\n",
       "  </tbody>\n",
       "</table>\n",
       "</div>"
      ],
      "text/plain": [
       "   user_id       date  playtime  playcount  level mainjob  paycount  \\\n",
       "0     1001 2024-01-10        61        1.0     15  dealer         1   \n",
       "1     1001 2024-01-11        14        1.0     15  dealer         1   \n",
       "2     1001 2024-01-12        16        1.0     15  tanker         1   \n",
       "3     1001 2024-01-13      1300        3.0     15  tanker         1   \n",
       "4     1001 2024-01-14        41        3.0     15  tanker         1   \n",
       "\n",
       "   payamount  mainjoblevel  \n",
       "0      60300            60  \n",
       "1        100            60  \n",
       "2        151            60  \n",
       "3       1000            60  \n",
       "4      16000            60  "
      ]
     },
     "metadata": {},
     "output_type": "display_data"
    }
   ],
   "source": [
    "# 데이터 읽기용 코드셀입니다.\n",
    "\n",
    "import pandas as pd\n",
    "print('='*20, 'game.xlsx 데이터 정보입니다.', '='*20)\n",
    "tmp_df = pd.read_excel('../data_과제/game.xlsx', sheet_name='Sheet1')\n",
    "display(tmp_df.shape)\n",
    "display(tmp_df.columns)\n",
    "display(tmp_df.head())"
   ]
  },
  {
   "cell_type": "markdown",
   "id": "dc15ed60",
   "metadata": {},
   "source": [
    "<img src=\"./참고이미지/Q9/Q9_1.png\" width=\"45%\">"
   ]
  }
 ],
 "metadata": {
  "language_info": {
   "name": "python"
  }
 },
 "nbformat": 4,
 "nbformat_minor": 5
}
